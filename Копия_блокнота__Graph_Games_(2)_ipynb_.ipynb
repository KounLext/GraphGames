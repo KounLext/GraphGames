{
  "nbformat": 4,
  "nbformat_minor": 0,
  "metadata": {
    "kernelspec": {
      "display_name": "Python 3",
      "language": "python",
      "name": "python3"
    },
    "language_info": {
      "codemirror_mode": {
        "name": "ipython",
        "version": 3
      },
      "file_extension": ".py",
      "mimetype": "text/x-python",
      "name": "python",
      "nbconvert_exporter": "python",
      "pygments_lexer": "ipython3",
      "version": "3.8.3"
    },
    "colab": {
      "name": "Копия блокнота \"Graph Games (2).ipynb\"",
      "provenance": [],
      "collapsed_sections": []
    },
    "widgets": {
      "application/vnd.jupyter.widget-state+json": {
        "b4fa6b09397b4ae7b8413048fce900ad": {
          "model_module": "@jupyter-widgets/controls",
          "model_name": "ButtonModel",
          "state": {
            "_view_name": "ButtonView",
            "style": "IPY_MODEL_dc3ee4d8394a442c88203a1816a8663d",
            "_dom_classes": [],
            "description": "Старт",
            "_model_name": "ButtonModel",
            "button_style": "danger",
            "_view_module": "@jupyter-widgets/controls",
            "_model_module_version": "1.5.0",
            "tooltip": "",
            "_view_count": null,
            "disabled": false,
            "_view_module_version": "1.5.0",
            "layout": "IPY_MODEL_8bd7534046cf48caa15f076487afbb60",
            "_model_module": "@jupyter-widgets/controls",
            "icon": ""
          }
        },
        "dc3ee4d8394a442c88203a1816a8663d": {
          "model_module": "@jupyter-widgets/controls",
          "model_name": "ButtonStyleModel",
          "state": {
            "_view_name": "StyleView",
            "_model_name": "ButtonStyleModel",
            "_view_module": "@jupyter-widgets/base",
            "_model_module_version": "1.5.0",
            "_view_count": null,
            "button_color": null,
            "font_weight": "",
            "_view_module_version": "1.2.0",
            "_model_module": "@jupyter-widgets/controls"
          }
        },
        "8bd7534046cf48caa15f076487afbb60": {
          "model_module": "@jupyter-widgets/base",
          "model_name": "LayoutModel",
          "state": {
            "_view_name": "LayoutView",
            "grid_template_rows": null,
            "right": null,
            "justify_content": null,
            "_view_module": "@jupyter-widgets/base",
            "overflow": null,
            "_model_module_version": "1.2.0",
            "_view_count": null,
            "flex_flow": null,
            "width": "auto",
            "min_width": null,
            "border": null,
            "align_items": null,
            "bottom": null,
            "_model_module": "@jupyter-widgets/base",
            "top": null,
            "grid_column": null,
            "overflow_y": null,
            "overflow_x": null,
            "grid_auto_flow": null,
            "grid_area": null,
            "grid_template_columns": null,
            "flex": null,
            "_model_name": "LayoutModel",
            "justify_items": null,
            "grid_row": null,
            "max_height": null,
            "align_content": null,
            "visibility": null,
            "align_self": null,
            "height": "auto",
            "min_height": null,
            "padding": null,
            "grid_auto_rows": null,
            "grid_gap": null,
            "max_width": null,
            "order": null,
            "_view_module_version": "1.2.0",
            "grid_template_areas": null,
            "object_position": null,
            "object_fit": null,
            "grid_auto_columns": null,
            "margin": null,
            "display": null,
            "left": null
          }
        }
      }
    }
  },
  "cells": [
    {
      "cell_type": "code",
      "metadata": {
        "id": "Lb8RYAsWeCjk"
      },
      "source": [
        "import ipywidgets as widgets\n",
        "import matplotlib.pyplot as plt\n",
        "from IPython.display import display\n",
        "import networkx as nx\n",
        "import itertools \n"
      ],
      "execution_count": 3,
      "outputs": []
    },
    {
      "cell_type": "markdown",
      "metadata": {
        "id": "rqrTIl7uA58G"
      },
      "source": [
        "Перед вами широко распространённая игра Ним, вернее, её менее распространённая версия для графов. \n",
        "\n",
        "Правила просты. \n",
        "\n",
        "Два игрока по очереди выбирают вершину и убирают инцидентные ей рёбра. За один ход можно убрать любое ненулевое количество рёбер, соответствующих одной вершине. Выигрывает игрок, убравший последнее ребро в графе.\n",
        "\n",
        "Чтобы перейти к игре, запустите ячейки с кодом выше и ниже и нажмите [\"сюда\"](#start)."
      ]
    },
    {
      "cell_type": "markdown",
      "metadata": {
        "id": "oZHWOssWeCj0"
      },
      "source": [
        "### Описание алгоритма"
      ]
    },
    {
      "cell_type": "code",
      "metadata": {
        "id": "9G3IJVWCeCj4"
      },
      "source": [
        "class MyError(ValueError):\n",
        "    def __init__(self, text):\n",
        "        self.txt = text\n",
        "style = {'description_width': 'initial'}\n",
        "\n",
        "#caption = widgets.Label(value='Выбранная вершина: ')\n",
        "\n",
        "\n",
        "\n",
        "def choose(change):\n",
        "    global chosen_vertex\n",
        "    chosen_vertex=change.new\n",
        "    \n",
        "    caption.value = 'Выбранная вершина: ' + str(chosen_vertex)\n",
        "    global oc2\n",
        "    oc2=1\n",
        "\n",
        "\n",
        "def on_button_clicked(b):\n",
        "  new=int(b.description)\n",
        "  global edges_list\n",
        "  if new in edges_list:\n",
        "    edges_list.remove(new)\n",
        "  else:\n",
        "    edges_list.append(new)\n",
        "  #global caption_edges\n",
        "  global caption_edges\n",
        "  caption_edges.value = 'Выбранные соседние вершины : ' + str(' '.join([str(e)+' ' for e in edges_list]))\n",
        "\n",
        "\n",
        "confirm_vertex=widgets.Button(description=\"Подтвердите свой выбор\", layout=widgets.Layout(width='auto', height='auto'),\n",
        "                         button_style='danger')\n",
        "\n",
        "confirm=widgets.Button(description=\"Подтвердите свой выбор\", layout=widgets.Layout(width='auto', height='auto'),\n",
        "                         button_style='danger')\n",
        "\n",
        "\n",
        "\n",
        "def on_confirm_clicked(b):\n",
        "  global edges_list\n",
        "  if edges_list:\n",
        "    global instructions\n",
        "    instructions.close()\n",
        "    global caption_edges\n",
        "    caption_edges.close()\n",
        "    global edges_box\n",
        "    edges_box.close()\n",
        "    for v in edges_list:\n",
        "      e=(chosen_vertex,v)\n",
        "      G.remove_edge(*e)\n",
        "      #confirm.close()\n",
        "      G.remove_nodes_from(list(nx.isolates(G)))\n",
        "    global k\n",
        "    nx.draw(G, pos, node_color='y',\n",
        "             node_size=1000,\n",
        "             with_labels=True)\n",
        "    if nx.is_empty(G):\n",
        "      print(\"Победил игрок \"+str(k))\n",
        "      start=widgets.Button(description=\"Старт\", layout=widgets.Layout(width='auto', height='auto'),\n",
        "                         button_style='danger')\n",
        "      display(start)\n",
        "      return\n",
        "\n",
        "\n",
        "    global step\n",
        "    step=widgets.Button(description=\"Сделать ход\", layout=widgets.Layout(width='auto', height='auto'),\n",
        "                         button_style='danger')\n",
        "    display(step)\n",
        "    \n",
        "    \n",
        "    if k==1:\n",
        "      k=2\n",
        "    else: \n",
        "      k=1\n",
        "    global caption\n",
        "    caption.close()\n",
        "    global player\n",
        "    player.close()\n",
        "    step.on_click(on_step)\n",
        "\n",
        "  \n",
        "def on_confirm2_clicked(b):\n",
        "  global vvv\n",
        "  global oc2\n",
        "  if oc2==1:\n",
        "    vvv.close()\n",
        "    global caption_edges\n",
        "\n",
        "    caption_edges = widgets.Label(value='Выбранные соседние вершины : ')\n",
        "    global edges_list\n",
        "    edges_list=[]\n",
        "    global chosen_vertex\n",
        "    children=[widgets.Button(description=str(w), layout=widgets.Layout(width='auto', height='auto'),\n",
        "                         button_style='success') for w in nx.neighbors(G,chosen_vertex)]\n",
        "    edges=widgets.GridBox(children,\n",
        "\n",
        "                layout=widgets.Layout(\n",
        "                                    width='60%',\n",
        "                                    grid_template_columns='100px 100px 100px 100px 100px',\n",
        "                                    grid_template_rows='80px 80px',\n",
        "                                    grid_gap='12px 2px'))\n",
        "    global instructions\n",
        "    instructions=widgets.Label(value=\"Выберите соседей, рёбра с которыми хотите убрать. \\n Повторное нажатие на соответствующую кнопку уберёт вершину из списка вершин на удаление.\")\n",
        "    display(instructions)\n",
        "    global edges_box\n",
        "    edges_box=widgets.Box([edges,confirm])\n",
        "    \n",
        "    display(caption_edges,edges_box)\n",
        "    for button in children:\n",
        "      button.on_click(on_button_clicked)\n",
        "    confirm.on_click(on_confirm_clicked)\n",
        "\n",
        "\n",
        "\n",
        "\n",
        "\n",
        "\n",
        "def on_step(b):\n",
        "  global step\n",
        "  step.close()\n",
        "  global k\n",
        "  global player\n",
        "  player=widgets.Label(value=\"Ход игрока \"+str(k))\n",
        " # plt.title(\"Ход игрока \"+str(k))\n",
        "  display(player)\n",
        "  v=widgets.Dropdown(description=\"Выберите вершину\",options=list(G.nodes),style=style)\n",
        "  global vvv\n",
        "  vvv=widgets.Box([v,confirm_vertex])\n",
        "  global oc2\n",
        "  oc2=0\n",
        "  global caption\n",
        "  caption = widgets.Label(value='Выбранная вершина: ')\n",
        "  display(caption, vvv)\n",
        "  v.observe(choose, names='value')\n",
        "  confirm_vertex.on_click(on_confirm2_clicked)\n",
        "\n",
        "def on_start(b):\n",
        "  start.close()\n",
        "  nx.draw(G, pos, node_color='y',\n",
        "             node_size=1000,\n",
        "             with_labels=True)\n",
        "  \n",
        "  plt.draw()\n",
        "  global step\n",
        "  step=widgets.Button(description=\"Сделать ход\", layout=widgets.Layout(width='auto', height='auto'),\n",
        "                         button_style='danger')\n",
        "\n",
        "  display(step)\n",
        "  global k\n",
        "  k=1\n",
        "  step.on_click(on_step)\n",
        "\n",
        "def graph_con(G):\n",
        "  if nx.isolates(G):\n",
        "    a=list(G.edges)[0][0]\n",
        "    for v in nx.isolates(G):\n",
        "      e=(v,a)\n",
        "      G.add_edge(*e)\n",
        "\n",
        "#list(nx.isolates(G))\n"
      ],
      "execution_count": 181,
      "outputs": []
    },
    {
      "cell_type": "markdown",
      "metadata": {
        "id": "ZQPNfZ26Dd0f"
      },
      "source": [
        "<a id='start'></a>\n",
        "\n",
        "Чтобы начать игру, запустите ячейку с кодом ниже и нажмите \"старт\".\n"
      ]
    },
    {
      "cell_type": "code",
      "metadata": {
        "colab": {
          "base_uri": "https://localhost:8080/",
          "height": 49,
          "referenced_widgets": [
            "b4fa6b09397b4ae7b8413048fce900ad",
            "dc3ee4d8394a442c88203a1816a8663d",
            "8bd7534046cf48caa15f076487afbb60"
          ]
        },
        "id": "XcaKBB8I4V2N",
        "outputId": "f09dbd98-07a6-48ae-a8cd-68e62d4ce985"
      },
      "source": [
        "G=nx.gnm_random_graph(15,20)\n",
        "graph_con(G)\n",
        "pos = nx.kamada_kawai_layout(G,scale=20)\n",
        "start=widgets.Button(description=\"Старт\", layout=widgets.Layout(width='auto', height='auto'),\n",
        "                         button_style='danger')\n",
        "display(start)\n",
        "start.on_click(on_start)"
      ],
      "execution_count": 183,
      "outputs": [
        {
          "output_type": "display_data",
          "data": {
            "application/vnd.jupyter.widget-view+json": {
              "model_id": "b4fa6b09397b4ae7b8413048fce900ad",
              "version_minor": 0,
              "version_major": 2
            },
            "text/plain": [
              "Button(button_style='danger', description='Старт', layout=Layout(height='auto', width='auto'), style=ButtonSty…"
            ]
          },
          "metadata": {
            "tags": []
          }
        }
      ]
    },
    {
      "cell_type": "code",
      "metadata": {
        "id": "fmpfcgLlvxO9"
      },
      "source": [
        ""
      ],
      "execution_count": null,
      "outputs": []
    }
  ]
}